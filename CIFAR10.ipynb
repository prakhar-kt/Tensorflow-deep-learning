{
  "cells": [
    {
      "cell_type": "markdown",
      "metadata": {
        "id": "view-in-github",
        "colab_type": "text"
      },
      "source": [
        "<a href=\"https://colab.research.google.com/github/prakhar-kt/Tensorflow-deep-learning/blob/main/CIFAR10.ipynb\" target=\"_parent\"><img src=\"https://colab.research.google.com/assets/colab-badge.svg\" alt=\"Open In Colab\"/></a>"
      ]
    },
    {
      "cell_type": "markdown",
      "metadata": {
        "id": "Z8781kViaziR"
      },
      "source": [
        "Import the required libraries"
      ]
    },
    {
      "cell_type": "code",
      "execution_count": null,
      "metadata": {
        "id": "WpdcVb7Iamwj"
      },
      "outputs": [],
      "source": [
        "import tensorflow as tf\n",
        "import numpy as np\n",
        "import matplotlib.pyplot as plt"
      ]
    },
    {
      "cell_type": "code",
      "execution_count": null,
      "metadata": {
        "id": "qWtr9R8Aa5bQ"
      },
      "outputs": [],
      "source": [
        "from tensorflow.keras.layers import Input, Conv2D, Dense, Flatten, Dropout, GlobalMaxPooling2D, BatchNormalization, MaxPooling2D\n",
        "from tensorflow.keras.models import Model"
      ]
    },
    {
      "cell_type": "markdown",
      "metadata": {
        "id": "gQKczUvWdUPW"
      },
      "source": [
        "Load the CIFAR10 dataset and get the train and test set"
      ]
    },
    {
      "cell_type": "code",
      "execution_count": null,
      "metadata": {
        "colab": {
          "base_uri": "https://localhost:8080/"
        },
        "id": "ISd5-4Y1dSBc",
        "outputId": "b530a7eb-b439-453d-9641-dc08bd09bc30"
      },
      "outputs": [
        {
          "name": "stdout",
          "output_type": "stream",
          "text": [
            "Downloading data from https://www.cs.toronto.edu/~kriz/cifar-10-python.tar.gz\n",
            "170500096/170498071 [==============================] - 6s 0us/step\n",
            "170508288/170498071 [==============================] - 6s 0us/step\n",
            "x_train shape: (50000, 32, 32, 3)\n",
            "x_test shape: (10000, 32, 32, 3)\n",
            "y_train shape: (50000, 1)\n",
            "y_test.shape: (10000, 1)\n"
          ]
        }
      ],
      "source": [
        "cifar = tf.keras.datasets.cifar10\n",
        "(x_train, y_train), (x_test, y_test) = cifar.load_data()\n",
        "# Normalize the input \n",
        "x_train, x_test = x_train/255.0, x_test/255.0\n",
        "print(f\"x_train shape: {x_train.shape}\")\n",
        "print(f\"x_test shape: {x_test.shape}\")\n",
        "print(f\"y_train shape: {y_train.shape}\")\n",
        "print(f\"y_test.shape: {y_test.shape}\")\n"
      ]
    },
    {
      "cell_type": "markdown",
      "metadata": {
        "id": "mO4Bx4k3fgXC"
      },
      "source": [
        "As the labels are 2-dimensional, we will flatten the shapes to get one-dimensional vectors"
      ]
    },
    {
      "cell_type": "code",
      "execution_count": null,
      "metadata": {
        "colab": {
          "base_uri": "https://localhost:8080/"
        },
        "id": "mrzGHh9JezB6",
        "outputId": "dfe56ef1-65eb-43e3-cc89-9a8a6e6d8278"
      },
      "outputs": [
        {
          "name": "stdout",
          "output_type": "stream",
          "text": [
            "y_train shape: (50000,)\n",
            "y_test.shape: (10000,)\n"
          ]
        }
      ],
      "source": [
        "y_train, y_test = y_train.flatten(), y_test.flatten()\n",
        "print(f\"y_train shape: {y_train.shape}\")\n",
        "print(f\"y_test.shape: {y_test.shape}\")"
      ]
    },
    {
      "cell_type": "markdown",
      "metadata": {
        "id": "gYA0Ryu5f43f"
      },
      "source": [
        "Get the number of classes"
      ]
    },
    {
      "cell_type": "code",
      "execution_count": null,
      "metadata": {
        "colab": {
          "base_uri": "https://localhost:8080/"
        },
        "id": "l92cKo1Ef2Qy",
        "outputId": "e1b4e278-7cb4-4406-cb36-1c359218387c"
      },
      "outputs": [
        {
          "name": "stdout",
          "output_type": "stream",
          "text": [
            "No of classes: 10\n"
          ]
        }
      ],
      "source": [
        "k = len(set(y_train))\n",
        "print(f\"No of classes:\", k)"
      ]
    },
    {
      "cell_type": "code",
      "execution_count": null,
      "metadata": {
        "id": "Jj_K8By7gIrw"
      },
      "outputs": [],
      "source": [
        ""
      ]
    },
    {
      "cell_type": "markdown",
      "metadata": {
        "id": "Z01phmy0gJqv"
      },
      "source": [
        "#### Build the model using Functional Api"
      ]
    },
    {
      "cell_type": "code",
      "execution_count": null,
      "metadata": {
        "id": "N4c0OsfRgAvv"
      },
      "outputs": [],
      "source": [
        "i = Input(shape=x_train[0].shape)\n",
        "x = Conv2D(32, (3,3), strides=2, activation='relu')(i)\n",
        "x = Conv2D(64, (3,3), strides=2, activation='relu')(x)\n",
        "x = Conv2D(128, (3,3), strides=2, activation='relu')(x)\n",
        "x = Flatten()(x)\n",
        "x = Dropout(0.2)(x)\n",
        "x = Dense(512,activation='relu')(x)\n",
        "x = Dropout(0.2)(x)\n",
        "x = Dense(10, activation='softmax')(x)\n",
        "\n",
        "model = Model(i,x)\n"
      ]
    },
    {
      "cell_type": "markdown",
      "metadata": {
        "id": "r2pnSX0ehuiJ"
      },
      "source": [
        "#### Compile and fit the model"
      ]
    },
    {
      "cell_type": "code",
      "execution_count": null,
      "metadata": {
        "colab": {
          "base_uri": "https://localhost:8080/"
        },
        "id": "jsu706uDhtK1",
        "outputId": "90893560-9848-4722-ad88-2b3840c0b026"
      },
      "outputs": [
        {
          "name": "stdout",
          "output_type": "stream",
          "text": [
            "Epoch 1/20\n",
            "1563/1563 [==============================] - 18s 4ms/step - loss: 1.5119 - accuracy: 0.4489 - val_loss: 1.2461 - val_accuracy: 0.5534\n",
            "Epoch 2/20\n",
            "1563/1563 [==============================] - 6s 4ms/step - loss: 1.1870 - accuracy: 0.5781 - val_loss: 1.0710 - val_accuracy: 0.6191\n",
            "Epoch 3/20\n",
            "1563/1563 [==============================] - 6s 4ms/step - loss: 1.0341 - accuracy: 0.6350 - val_loss: 1.0202 - val_accuracy: 0.6414\n",
            "Epoch 4/20\n",
            "1563/1563 [==============================] - 6s 4ms/step - loss: 0.9144 - accuracy: 0.6747 - val_loss: 0.9288 - val_accuracy: 0.6713\n",
            "Epoch 5/20\n",
            "1563/1563 [==============================] - 6s 4ms/step - loss: 0.8308 - accuracy: 0.7047 - val_loss: 0.9038 - val_accuracy: 0.6789\n",
            "Epoch 6/20\n",
            "1563/1563 [==============================] - 6s 4ms/step - loss: 0.7491 - accuracy: 0.7319 - val_loss: 0.8897 - val_accuracy: 0.6914\n",
            "Epoch 7/20\n",
            "1563/1563 [==============================] - 6s 4ms/step - loss: 0.6779 - accuracy: 0.7588 - val_loss: 0.8585 - val_accuracy: 0.7069\n",
            "Epoch 8/20\n",
            "1563/1563 [==============================] - 6s 4ms/step - loss: 0.6141 - accuracy: 0.7781 - val_loss: 0.8800 - val_accuracy: 0.7054\n",
            "Epoch 9/20\n",
            "1563/1563 [==============================] - 6s 4ms/step - loss: 0.5605 - accuracy: 0.7998 - val_loss: 0.8826 - val_accuracy: 0.7064\n",
            "Epoch 10/20\n",
            "1563/1563 [==============================] - 6s 4ms/step - loss: 0.5115 - accuracy: 0.8164 - val_loss: 0.9052 - val_accuracy: 0.7041\n",
            "Epoch 11/20\n",
            "1563/1563 [==============================] - 6s 4ms/step - loss: 0.4643 - accuracy: 0.8350 - val_loss: 0.9232 - val_accuracy: 0.7083\n",
            "Epoch 12/20\n",
            "1563/1563 [==============================] - 6s 4ms/step - loss: 0.4358 - accuracy: 0.8425 - val_loss: 0.9527 - val_accuracy: 0.7049\n",
            "Epoch 13/20\n",
            "1563/1563 [==============================] - 6s 4ms/step - loss: 0.4106 - accuracy: 0.8536 - val_loss: 0.9528 - val_accuracy: 0.7057\n",
            "Epoch 14/20\n",
            "1563/1563 [==============================] - 6s 4ms/step - loss: 0.3804 - accuracy: 0.8633 - val_loss: 1.0197 - val_accuracy: 0.7044\n",
            "Epoch 15/20\n",
            "1563/1563 [==============================] - 6s 4ms/step - loss: 0.3686 - accuracy: 0.8672 - val_loss: 1.0196 - val_accuracy: 0.7072\n",
            "Epoch 16/20\n",
            "1563/1563 [==============================] - 6s 4ms/step - loss: 0.3365 - accuracy: 0.8804 - val_loss: 1.0458 - val_accuracy: 0.7020\n",
            "Epoch 17/20\n",
            "1563/1563 [==============================] - 6s 4ms/step - loss: 0.3248 - accuracy: 0.8827 - val_loss: 1.0663 - val_accuracy: 0.7061\n",
            "Epoch 18/20\n",
            "1563/1563 [==============================] - 6s 4ms/step - loss: 0.3044 - accuracy: 0.8928 - val_loss: 1.0884 - val_accuracy: 0.7052\n",
            "Epoch 19/20\n",
            "1563/1563 [==============================] - 6s 4ms/step - loss: 0.2986 - accuracy: 0.8951 - val_loss: 1.1371 - val_accuracy: 0.7005\n",
            "Epoch 20/20\n",
            "1563/1563 [==============================] - 6s 4ms/step - loss: 0.2874 - accuracy: 0.8986 - val_loss: 1.1367 - val_accuracy: 0.6979\n"
          ]
        }
      ],
      "source": [
        "model.compile(optimizer='adam',\n",
        "              loss='sparse_categorical_crossentropy',\n",
        "              metrics=['accuracy'])\n",
        "history = model.fit(x_train, y_train, validation_data=[x_test, y_test], epochs=20)"
      ]
    },
    {
      "cell_type": "markdown",
      "metadata": {
        "id": "4NrvrwrUBvK0"
      },
      "source": [
        "#### Plot Loss and Accuracy Curves"
      ]
    },
    {
      "cell_type": "code",
      "execution_count": null,
      "metadata": {
        "colab": {
          "base_uri": "https://localhost:8080/",
          "height": 281
        },
        "id": "3Bxm3_y7imVC",
        "outputId": "4c771c18-b464-46fd-a9de-c38834a04673"
      },
      "outputs": [
        {
          "data": {
            "image/png": "[encoded data removed]",
            "text/plain": [
              "<Figure size 432x288 with 1 Axes>"
            ]
          },
          "metadata": {},
          "output_type": "display_data"
        }
      ],
      "source": [
        "plt.plot(history.history['loss'], label='Training loss')\n",
        "plt.plot(history.history['val_loss'], label='Validation loss')\n",
        "plt.title('Training and Validation Loss')\n",
        "plt.legend();"
      ]
    },
    {
      "cell_type": "code",
      "execution_count": null,
      "metadata": {
        "colab": {
          "base_uri": "https://localhost:8080/",
          "height": 281
        },
        "id": "HtffYBEtCQTH",
        "outputId": "ae950f60-b320-41c4-f88e-de697bf23197"
      },
      "outputs": [
        {
          "data": {
            "image/png": "[encoded data removed]",
            "text/plain": [
              "<Figure size 432x288 with 1 Axes>"
            ]
          },
          "metadata": {},
          "output_type": "display_data"
        }
      ],
      "source": [
        "plt.plot(history.history['accuracy'], label='Training Accuracy')\n",
        "plt.plot(history.history['val_accuracy'],label='Validation Accuracy')\n",
        "plt.title('Training and Validation Accuracy')\n",
        "plt.legend();"
      ]
    },
    {
      "cell_type": "markdown",
      "metadata": {
        "id": "BPeVzKaPC6T3"
      },
      "source": [
        "#### The model is clearly overfitting here as training loss keeps on going down , whereas the validation loss just plateaus out after 3 epochs"
      ]
    },
    {
      "cell_type": "markdown",
      "metadata": {
        "id": "JHQM33eQGmeG"
      },
      "source": [
        "### Builiding the model using BatchNormalisation, increasing pooling layers, changing padding to same, using maxpooling, and strides of 1 instead of 2"
      ]
    },
    {
      "cell_type": "code",
      "execution_count": null,
      "metadata": {
        "id": "cKym327PC3xp"
      },
      "outputs": [],
      "source": [
        "i = Input(shape=x_train[0].shape)\n",
        "x = Conv2D(32, (3,3), padding='same',activation='relu')(i)\n",
        "x = BatchNormalization()(x)\n",
        "x = Conv2D(32, (3,3), padding='same',activation='relu')(x)\n",
        "x = BatchNormalization()(x)\n",
        "x = MaxPooling2D((2,2))(x)\n",
        "x = Conv2D(64, (3,3), padding='same', activation='relu')(x)\n",
        "x = BatchNormalization()(x)\n",
        "x = Conv2D(64, (3,3), padding='same', activation='relu')(x)\n",
        "x = BatchNormalization()(x)\n",
        "x = MaxPooling2D((2,2))(x)\n",
        "x = Conv2D(128, (3,3), padding='same',activation='relu')(x)\n",
        "x = BatchNormalization()(x)\n",
        "x = Conv2D(128, (3,3), padding='same', activation='relu')(x)\n",
        "x = BatchNormalization()(x)\n",
        "x = MaxPooling2D((2,2))(x)\n",
        "x = Flatten()(x)\n",
        "x = Dropout(0.2)(x)\n",
        "x = Dense(1024,activation='relu')(x)\n",
        "x = Dropout(0.2)(x)\n",
        "x = Dense(10, activation='softmax')(x)\n",
        "\n",
        "model_1 = Model(i,x)\n",
        "\n"
      ]
    },
    {
      "cell_type": "markdown",
      "metadata": {
        "id": "DWrp4d0bK22r"
      },
      "source": [
        "Compile and fit the model"
      ]
    },
    {
      "cell_type": "code",
      "execution_count": null,
      "metadata": {
        "colab": {
          "background_save": true,
          "base_uri": "https://localhost:8080/"
        },
        "id": "XZ9obFn_Kyxi",
        "outputId": "ce96391c-978e-4839-8da0-e711372333e4"
      },
      "outputs": [
        {
          "name": "stdout",
          "output_type": "stream",
          "text": [
            "Epoch 1/50\n",
            "1563/1563 [==============================] - 488s 311ms/step - loss: 1.2916 - accuracy: 0.5542 - val_loss: 1.3737 - val_accuracy: 0.5569\n",
            "Epoch 2/50\n",
            "1563/1563 [==============================] - 476s 305ms/step - loss: 0.8418 - accuracy: 0.7067 - val_loss: 0.8342 - val_accuracy: 0.7160\n",
            "Epoch 3/50\n",
            "1563/1563 [==============================] - 480s 307ms/step - loss: 0.6935 - accuracy: 0.7630 - val_loss: 0.7302 - val_accuracy: 0.7540\n",
            "Epoch 4/50\n",
            "1563/1563 [==============================] - 476s 304ms/step - loss: 0.5856 - accuracy: 0.7995 - val_loss: 0.6972 - val_accuracy: 0.7728\n",
            "Epoch 5/50\n",
            "1563/1563 [==============================] - 475s 304ms/step - loss: 0.5074 - accuracy: 0.8261 - val_loss: 0.7883 - val_accuracy: 0.7425\n",
            "Epoch 6/50\n",
            "1563/1563 [==============================] - 478s 306ms/step - loss: 0.4221 - accuracy: 0.8541 - val_loss: 0.6098 - val_accuracy: 0.8024\n",
            "Epoch 7/50\n",
            "1563/1563 [==============================] - 479s 306ms/step - loss: 0.3584 - accuracy: 0.8760 - val_loss: 0.7313 - val_accuracy: 0.7844\n",
            "Epoch 8/50\n",
            "1563/1563 [==============================] - 482s 308ms/step - loss: 0.3035 - accuracy: 0.8951 - val_loss: 0.6133 - val_accuracy: 0.8186\n",
            "Epoch 9/50\n",
            "1563/1563 [==============================] - 480s 307ms/step - loss: 0.2657 - accuracy: 0.9076 - val_loss: 0.7248 - val_accuracy: 0.7876\n",
            "Epoch 10/50\n",
            "1563/1563 [==============================] - 479s 306ms/step - loss: 0.2300 - accuracy: 0.9212 - val_loss: 0.6338 - val_accuracy: 0.8200\n",
            "Epoch 11/50\n",
            "1563/1563 [==============================] - 482s 309ms/step - loss: 0.2008 - accuracy: 0.9313 - val_loss: 0.7127 - val_accuracy: 0.8216\n",
            "Epoch 12/50\n",
            "1563/1563 [==============================] - 482s 308ms/step - loss: 0.1744 - accuracy: 0.9408 - val_loss: 0.7295 - val_accuracy: 0.8268\n",
            "Epoch 13/50\n",
            "1563/1563 [==============================] - 481s 308ms/step - loss: 0.1676 - accuracy: 0.9423 - val_loss: 0.6360 - val_accuracy: 0.8288\n",
            "Epoch 14/50\n",
            "1563/1563 [==============================] - 479s 307ms/step - loss: 0.1449 - accuracy: 0.9505 - val_loss: 0.6880 - val_accuracy: 0.8219\n",
            "Epoch 15/50\n",
            "1563/1563 [==============================] - 479s 307ms/step - loss: 0.1442 - accuracy: 0.9521 - val_loss: 0.6713 - val_accuracy: 0.8279\n",
            "Epoch 16/50\n",
            "1563/1563 [==============================] - 481s 308ms/step - loss: 0.1192 - accuracy: 0.9606 - val_loss: 0.7330 - val_accuracy: 0.8256\n",
            "Epoch 17/50\n",
            "1563/1563 [==============================] - 478s 306ms/step - loss: 0.1187 - accuracy: 0.9596 - val_loss: 0.7289 - val_accuracy: 0.8198\n",
            "Epoch 18/50\n",
            "1563/1563 [==============================] - 479s 307ms/step - loss: 0.1145 - accuracy: 0.9624 - val_loss: 0.8225 - val_accuracy: 0.8162\n",
            "Epoch 19/50\n",
            "1563/1563 [==============================] - 479s 306ms/step - loss: 0.1028 - accuracy: 0.9653 - val_loss: 0.8383 - val_accuracy: 0.8194\n",
            "Epoch 20/50\n",
            "1563/1563 [==============================] - 480s 307ms/step - loss: 0.0988 - accuracy: 0.9679 - val_loss: 0.8754 - val_accuracy: 0.8142\n",
            "Epoch 21/50\n",
            "1563/1563 [==============================] - 486s 311ms/step - loss: 0.0947 - accuracy: 0.9690 - val_loss: 0.7797 - val_accuracy: 0.8310\n",
            "Epoch 22/50\n",
            "1563/1563 [==============================] - 486s 311ms/step - loss: 0.0856 - accuracy: 0.9716 - val_loss: 0.7571 - val_accuracy: 0.8308\n",
            "Epoch 23/50\n",
            "1563/1563 [==============================] - 484s 310ms/step - loss: 0.0861 - accuracy: 0.9725 - val_loss: 0.7837 - val_accuracy: 0.8319\n",
            "Epoch 24/50\n",
            "1563/1563 [==============================] - 486s 311ms/step - loss: 0.0813 - accuracy: 0.9736 - val_loss: 0.8507 - val_accuracy: 0.8305\n",
            "Epoch 25/50\n",
            "1563/1563 [==============================] - 487s 312ms/step - loss: 0.0768 - accuracy: 0.9751 - val_loss: 0.7740 - val_accuracy: 0.8339\n",
            "Epoch 26/50\n",
            "1563/1563 [==============================] - 483s 309ms/step - loss: 0.0742 - accuracy: 0.9755 - val_loss: 0.8065 - val_accuracy: 0.8335\n",
            "Epoch 27/50\n",
            "1563/1563 [==============================] - 484s 310ms/step - loss: 0.0701 - accuracy: 0.9769 - val_loss: 0.8757 - val_accuracy: 0.8360\n",
            "Epoch 28/50\n",
            "1563/1563 [==============================] - 482s 309ms/step - loss: 0.0700 - accuracy: 0.9774 - val_loss: 0.8636 - val_accuracy: 0.8334\n",
            "Epoch 29/50\n",
            "1563/1563 [==============================] - 486s 311ms/step - loss: 0.0648 - accuracy: 0.9787 - val_loss: 0.8912 - val_accuracy: 0.8277\n",
            "Epoch 30/50\n",
            "1563/1563 [==============================] - 485s 310ms/step - loss: 0.0637 - accuracy: 0.9797 - val_loss: 0.7897 - val_accuracy: 0.8339\n",
            "Epoch 31/50\n",
            "1563/1563 [==============================] - 487s 312ms/step - loss: 0.0639 - accuracy: 0.9789 - val_loss: 0.8329 - val_accuracy: 0.8286\n",
            "Epoch 32/50\n",
            "1563/1563 [==============================] - 485s 310ms/step - loss: 0.0599 - accuracy: 0.9797 - val_loss: 0.9009 - val_accuracy: 0.8376\n",
            "Epoch 33/50\n",
            "1563/1563 [==============================] - 488s 312ms/step - loss: 0.0618 - accuracy: 0.9796 - val_loss: 0.9588 - val_accuracy: 0.8290\n",
            "Epoch 34/50\n",
            "1563/1563 [==============================] - 489s 313ms/step - loss: 0.0595 - accuracy: 0.9812 - val_loss: 0.7701 - val_accuracy: 0.8381\n",
            "Epoch 35/50\n",
            "1563/1563 [==============================] - 489s 313ms/step - loss: 0.0544 - accuracy: 0.9823 - val_loss: 0.8729 - val_accuracy: 0.8354\n",
            "Epoch 36/50\n",
            "1563/1563 [==============================] - 489s 313ms/step - loss: 0.0548 - accuracy: 0.9819 - val_loss: 0.8614 - val_accuracy: 0.8351\n",
            "Epoch 37/50\n",
            "1563/1563 [==============================] - 492s 315ms/step - loss: 0.0494 - accuracy: 0.9833 - val_loss: 0.8738 - val_accuracy: 0.8347\n",
            "Epoch 38/50\n",
            "1563/1563 [==============================] - 492s 314ms/step - loss: 0.0575 - accuracy: 0.9812 - val_loss: 0.9440 - val_accuracy: 0.8278\n",
            "Epoch 39/50\n",
            "1563/1563 [==============================] - 488s 312ms/step - loss: 0.0475 - accuracy: 0.9844 - val_loss: 0.8616 - val_accuracy: 0.8441\n",
            "Epoch 40/50\n",
            "1563/1563 [==============================] - 500s 320ms/step - loss: 0.0459 - accuracy: 0.9845 - val_loss: 0.9345 - val_accuracy: 0.8354\n",
            "Epoch 41/50\n",
            "1563/1563 [==============================] - 492s 315ms/step - loss: 0.0497 - accuracy: 0.9839 - val_loss: 0.8897 - val_accuracy: 0.8370\n",
            "Epoch 42/50\n",
            "1563/1563 [==============================] - 495s 317ms/step - loss: 0.0453 - accuracy: 0.9850 - val_loss: 0.9681 - val_accuracy: 0.8355\n",
            "Epoch 43/50\n",
            "1563/1563 [==============================] - 497s 318ms/step - loss: 0.0414 - accuracy: 0.9863 - val_loss: 0.9443 - val_accuracy: 0.8391\n",
            "Epoch 44/50\n",
            "1563/1563 [==============================] - 493s 316ms/step - loss: 0.0493 - accuracy: 0.9841 - val_loss: 0.8835 - val_accuracy: 0.8380\n",
            "Epoch 45/50\n",
            "1563/1563 [==============================] - 493s 315ms/step - loss: 0.0471 - accuracy: 0.9858 - val_loss: 0.7924 - val_accuracy: 0.8438\n",
            "Epoch 46/50\n",
            "1563/1563 [==============================] - 488s 312ms/step - loss: 0.0402 - accuracy: 0.9872 - val_loss: 0.8551 - val_accuracy: 0.8409\n",
            "Epoch 47/50\n",
            "1563/1563 [==============================] - 489s 313ms/step - loss: 0.0425 - accuracy: 0.9867 - val_loss: 0.9528 - val_accuracy: 0.8352\n",
            "Epoch 48/50\n",
            "1563/1563 [==============================] - 483s 309ms/step - loss: 0.0435 - accuracy: 0.9861 - val_loss: 0.9708 - val_accuracy: 0.8391\n",
            "Epoch 49/50\n",
            "1563/1563 [==============================] - 488s 312ms/step - loss: 0.0429 - accuracy: 0.9866 - val_loss: 0.7914 - val_accuracy: 0.8322\n",
            "Epoch 50/50\n",
            "1563/1563 [==============================] - 485s 310ms/step - loss: 0.0419 - accuracy: 0.9865 - val_loss: 0.9126 - val_accuracy: 0.8434\n"
          ]
        },
        {
          "data": {
            "text/plain": [
              "<keras.callbacks.History at 0x7ff4aacfca50>"
            ]
          },
          "execution_count": null,
          "metadata": {},
          "output_type": "execute_result"
        }
      ],
      "source": [
        "model_1.compile(optimizer='adam',\n",
        "                loss='sparse_categorical_crossentropy',\n",
        "                metrics=['accuracy'])\n",
        "model_1.fit(x_train, y_train, validation_data=(x_test, y_test), epochs=50 )"
      ]
    },
    {
      "cell_type": "code",
      "execution_count": null,
      "metadata": {
        "colab": {
          "base_uri": "https://localhost:8080/"
        },
        "id": "sCguz2IvLuW0",
        "outputId": "74889676-c709-4aa2-ab5e-02b0658a0b29"
      },
      "outputs": [
        {
          "name": "stdout",
          "output_type": "stream",
          "text": [
            "Epoch 1/50\n"
          ]
        },
        {
          "name": "stderr",
          "output_type": "stream",
          "text": [
            "/usr/local/lib/python3.7/dist-packages/ipykernel_launcher.py:10: UserWarning: `Model.fit_generator` is deprecated and will be removed in a future version. Please use `Model.fit`, which supports generators.\n",
            "  # Remove the CWD from sys.path while we load stuff.\n"
          ]
        },
        {
          "name": "stdout",
          "output_type": "stream",
          "text": [
            "1562/1562 [==============================] - 26s 16ms/step - loss: 0.5473 - accuracy: 0.8263 - val_loss: 0.4873 - val_accuracy: 0.8427\n",
            "Epoch 2/50\n",
            "1562/1562 [==============================] - 25s 16ms/step - loss: 0.4340 - accuracy: 0.8571 - val_loss: 0.4753 - val_accuracy: 0.8449\n",
            "Epoch 3/50\n",
            "1562/1562 [==============================] - 26s 16ms/step - loss: 0.4136 - accuracy: 0.8645 - val_loss: 0.5339 - val_accuracy: 0.8287\n",
            "Epoch 4/50\n",
            "1562/1562 [==============================] - 26s 16ms/step - loss: 0.3857 - accuracy: 0.8727 - val_loss: 0.4569 - val_accuracy: 0.8537\n",
            "Epoch 5/50\n",
            "1562/1562 [==============================] - 26s 17ms/step - loss: 0.3668 - accuracy: 0.8788 - val_loss: 0.4473 - val_accuracy: 0.8506\n",
            "Epoch 6/50\n",
            "1562/1562 [==============================] - 25s 16ms/step - loss: 0.3455 - accuracy: 0.8857 - val_loss: 0.4279 - val_accuracy: 0.8617\n",
            "Epoch 7/50\n",
            "1562/1562 [==============================] - 25s 16ms/step - loss: 0.3405 - accuracy: 0.8858 - val_loss: 0.4168 - val_accuracy: 0.8597\n",
            "Epoch 8/50\n",
            "1562/1562 [==============================] - 26s 16ms/step - loss: 0.3253 - accuracy: 0.8917 - val_loss: 0.4499 - val_accuracy: 0.8613\n",
            "Epoch 9/50\n",
            "1562/1562 [==============================] - 26s 16ms/step - loss: 0.3168 - accuracy: 0.8929 - val_loss: 0.4089 - val_accuracy: 0.8682\n",
            "Epoch 10/50\n",
            "1562/1562 [==============================] - 26s 16ms/step - loss: 0.3053 - accuracy: 0.8975 - val_loss: 0.4501 - val_accuracy: 0.8613\n",
            "Epoch 11/50\n",
            "1562/1562 [==============================] - 25s 16ms/step - loss: 0.2941 - accuracy: 0.9006 - val_loss: 0.4407 - val_accuracy: 0.8666\n",
            "Epoch 12/50\n",
            "1562/1562 [==============================] - 26s 16ms/step - loss: 0.2910 - accuracy: 0.9018 - val_loss: 0.4077 - val_accuracy: 0.8676\n",
            "Epoch 13/50\n",
            "1562/1562 [==============================] - 26s 17ms/step - loss: 0.2810 - accuracy: 0.9040 - val_loss: 0.4497 - val_accuracy: 0.8599\n",
            "Epoch 14/50\n",
            "1562/1562 [==============================] - 25s 16ms/step - loss: 0.2740 - accuracy: 0.9091 - val_loss: 0.4461 - val_accuracy: 0.8564\n",
            "Epoch 15/50\n",
            "1562/1562 [==============================] - 25s 16ms/step - loss: 0.2701 - accuracy: 0.9098 - val_loss: 0.4163 - val_accuracy: 0.8685\n",
            "Epoch 16/50\n",
            "1562/1562 [==============================] - 25s 16ms/step - loss: 0.2625 - accuracy: 0.9107 - val_loss: 0.4270 - val_accuracy: 0.8705\n",
            "Epoch 17/50\n",
            "1562/1562 [==============================] - 25s 16ms/step - loss: 0.2558 - accuracy: 0.9140 - val_loss: 0.4429 - val_accuracy: 0.8650\n",
            "Epoch 18/50\n",
            "1562/1562 [==============================] - 25s 16ms/step - loss: 0.2468 - accuracy: 0.9159 - val_loss: 0.4156 - val_accuracy: 0.8733\n",
            "Epoch 19/50\n",
            "1562/1562 [==============================] - 25s 16ms/step - loss: 0.2421 - accuracy: 0.9179 - val_loss: 0.4303 - val_accuracy: 0.8695\n",
            "Epoch 20/50\n",
            "1562/1562 [==============================] - 25s 16ms/step - loss: 0.2360 - accuracy: 0.9204 - val_loss: 0.4283 - val_accuracy: 0.8689\n",
            "Epoch 21/50\n",
            "1562/1562 [==============================] - 26s 17ms/step - loss: 0.2393 - accuracy: 0.9178 - val_loss: 0.4327 - val_accuracy: 0.8691\n",
            "Epoch 22/50\n",
            "1562/1562 [==============================] - 26s 17ms/step - loss: 0.2328 - accuracy: 0.9219 - val_loss: 0.4097 - val_accuracy: 0.8745\n",
            "Epoch 23/50\n",
            "1562/1562 [==============================] - 25s 16ms/step - loss: 0.2292 - accuracy: 0.9234 - val_loss: 0.4097 - val_accuracy: 0.8739\n",
            "Epoch 24/50\n",
            "1562/1562 [==============================] - 26s 17ms/step - loss: 0.2210 - accuracy: 0.9255 - val_loss: 0.4315 - val_accuracy: 0.8700\n",
            "Epoch 25/50\n",
            "1562/1562 [==============================] - 26s 16ms/step - loss: 0.2189 - accuracy: 0.9250 - val_loss: 0.4228 - val_accuracy: 0.8764\n",
            "Epoch 26/50\n",
            "1562/1562 [==============================] - 26s 16ms/step - loss: 0.2196 - accuracy: 0.9256 - val_loss: 0.3998 - val_accuracy: 0.8733\n",
            "Epoch 27/50\n",
            "1562/1562 [==============================] - 25s 16ms/step - loss: 0.2170 - accuracy: 0.9274 - val_loss: 0.3880 - val_accuracy: 0.8785\n",
            "Epoch 28/50\n",
            "1562/1562 [==============================] - 26s 16ms/step - loss: 0.2137 - accuracy: 0.9281 - val_loss: 0.4507 - val_accuracy: 0.8739\n",
            "Epoch 29/50\n",
            "1562/1562 [==============================] - 26s 17ms/step - loss: 0.2086 - accuracy: 0.9288 - val_loss: 0.4017 - val_accuracy: 0.8756\n",
            "Epoch 30/50\n",
            "1562/1562 [==============================] - 25s 16ms/step - loss: 0.2105 - accuracy: 0.9280 - val_loss: 0.4466 - val_accuracy: 0.8701\n",
            "Epoch 31/50\n",
            "1562/1562 [==============================] - 26s 16ms/step - loss: 0.2035 - accuracy: 0.9318 - val_loss: 0.4266 - val_accuracy: 0.8753\n",
            "Epoch 32/50\n",
            "1562/1562 [==============================] - 25s 16ms/step - loss: 0.1986 - accuracy: 0.9329 - val_loss: 0.4347 - val_accuracy: 0.8735\n",
            "Epoch 33/50\n",
            "1562/1562 [==============================] - 25s 16ms/step - loss: 0.1974 - accuracy: 0.9331 - val_loss: 0.4594 - val_accuracy: 0.8718\n",
            "Epoch 34/50\n",
            "1562/1562 [==============================] - 26s 16ms/step - loss: 0.1957 - accuracy: 0.9337 - val_loss: 0.4326 - val_accuracy: 0.8791\n",
            "Epoch 35/50\n",
            "1562/1562 [==============================] - 26s 17ms/step - loss: 0.1906 - accuracy: 0.9353 - val_loss: 0.4224 - val_accuracy: 0.8730\n",
            "Epoch 36/50\n",
            "1562/1562 [==============================] - 25s 16ms/step - loss: 0.1868 - accuracy: 0.9369 - val_loss: 0.4110 - val_accuracy: 0.8775\n",
            "Epoch 37/50\n",
            "1562/1562 [==============================] - 26s 16ms/step - loss: 0.1857 - accuracy: 0.9371 - val_loss: 0.4292 - val_accuracy: 0.8735\n",
            "Epoch 38/50\n",
            "1562/1562 [==============================] - 26s 16ms/step - loss: 0.1832 - accuracy: 0.9372 - val_loss: 0.4105 - val_accuracy: 0.8819\n",
            "Epoch 39/50\n",
            "1562/1562 [==============================] - 25s 16ms/step - loss: 0.1833 - accuracy: 0.9379 - val_loss: 0.3972 - val_accuracy: 0.8852\n",
            "Epoch 40/50\n",
            "1562/1562 [==============================] - 25s 16ms/step - loss: 0.1776 - accuracy: 0.9394 - val_loss: 0.4240 - val_accuracy: 0.8835\n",
            "Epoch 41/50\n",
            "1562/1562 [==============================] - 25s 16ms/step - loss: 0.1803 - accuracy: 0.9402 - val_loss: 0.4736 - val_accuracy: 0.8720\n",
            "Epoch 42/50\n",
            "1562/1562 [==============================] - 25s 16ms/step - loss: 0.1823 - accuracy: 0.9384 - val_loss: 0.4289 - val_accuracy: 0.8816\n",
            "Epoch 43/50\n",
            "1562/1562 [==============================] - 25s 16ms/step - loss: 0.1716 - accuracy: 0.9422 - val_loss: 0.4498 - val_accuracy: 0.8711\n",
            "Epoch 44/50\n",
            "1562/1562 [==============================] - 25s 16ms/step - loss: 0.1708 - accuracy: 0.9424 - val_loss: 0.5210 - val_accuracy: 0.8592\n",
            "Epoch 45/50\n",
            "1562/1562 [==============================] - 25s 16ms/step - loss: 0.1725 - accuracy: 0.9417 - val_loss: 0.4540 - val_accuracy: 0.8785\n",
            "Epoch 46/50\n",
            "1562/1562 [==============================] - 25s 16ms/step - loss: 0.1747 - accuracy: 0.9421 - val_loss: 0.4615 - val_accuracy: 0.8795\n",
            "Epoch 47/50\n",
            "1562/1562 [==============================] - 26s 16ms/step - loss: 0.1686 - accuracy: 0.9421 - val_loss: 0.4388 - val_accuracy: 0.8808\n",
            "Epoch 48/50\n",
            "1562/1562 [==============================] - 25s 16ms/step - loss: 0.1643 - accuracy: 0.9441 - val_loss: 0.4469 - val_accuracy: 0.8772\n",
            "Epoch 49/50\n",
            "1562/1562 [==============================] - 25s 16ms/step - loss: 0.1666 - accuracy: 0.9440 - val_loss: 0.4113 - val_accuracy: 0.8863\n",
            "Epoch 50/50\n",
            "1562/1562 [==============================] - 25s 16ms/step - loss: 0.1641 - accuracy: 0.9444 - val_loss: 0.4524 - val_accuracy: 0.8775\n"
          ]
        }
      ],
      "source": [
        "from tensorflow.keras.preprocessing.image import ImageDataGenerator\n",
        "batch_size = 32\n",
        "data_generator = ImageDataGenerator(width_shift_range=0.1,\n",
        "                                    height_shift_range=0.1,\n",
        "                                    horizontal_flip=True)\n",
        "train_generator = data_generator.flow(x_train, y_train, batch_size)\n",
        "steps_per_epoch = x_train.shape[0]//batch_size\n",
        "history_3 = model_1.fit_generator(train_generator, validation_data=[x_test, y_test],\n",
        "                                  steps_per_epoch=steps_per_epoch,\n",
        "                                  epochs=50)"
      ]
    },
    {
      "cell_type": "markdown",
      "metadata": {
        "id": "0rUW7zfiYmi0"
      },
      "source": [
        "#### Plot the loss and accuracy curves\n"
      ]
    },
    {
      "cell_type": "code",
      "execution_count": null,
      "metadata": {
        "colab": {
          "base_uri": "https://localhost:8080/",
          "height": 281
        },
        "id": "HYnuy8jrTf7x",
        "outputId": "49a1417c-ad56-46b1-cbc0-ddabcdda0195"
      },
      "outputs": [
        {
          "data": {
            "image/png": "[encoded data removed]",
            "text/plain": [
              "<Figure size 432x288 with 1 Axes>"
            ]
          },
          "metadata": {},
          "output_type": "display_data"
        }
      ],
      "source": [
        "plt.plot(history_3.history['loss'], label='Training loss')\n",
        "plt.plot(history_3.history['val_loss'], label='Validation loss')\n",
        "plt.title('Training and Validation Loss')\n",
        "plt.legend();"
      ]
    },
    {
      "cell_type": "code",
      "execution_count": null,
      "metadata": {
        "colab": {
          "base_uri": "https://localhost:8080/",
          "height": 281
        },
        "id": "RZoPA0QpY6iy",
        "outputId": "929324da-7b26-47af-9b53-aeba7c7a9461"
      },
      "outputs": [
        {
          "data": {
            "image/png": "[encoded data removed]",
            "text/plain": [
              "<Figure size 432x288 with 1 Axes>"
            ]
          },
          "metadata": {},
          "output_type": "display_data"
        }
      ],
      "source": [
        "plt.plot(history_3.history['accuracy'], label='Training Accuracy')\n",
        "plt.plot(history_3.history['val_accuracy'],label='Validation Accuracy')\n",
        "plt.title('Training and Validation Accuracy')\n",
        "plt.legend();"
      ]
    },
    {
      "cell_type": "code",
      "execution_count": null,
      "metadata": {
        "id": "j_WWwgh-ZSnn"
      },
      "outputs": [],
      "source": [
        ""
      ]
    },
    {
      "cell_type": "markdown",
      "metadata": {
        "id": "yYhdCvzXZYrQ"
      },
      "source": [
        "### We see that even though the training accuracy has gone down, the validation accuracy has improved\n"
      ]
    },
    {
      "cell_type": "code",
      "execution_count": null,
      "metadata": {
        "id": "WnXlqEJQZtGk"
      },
      "outputs": [],
      "source": [
        ""
      ]
    }
  ],
  "metadata": {
    "accelerator": "GPU",
    "colab": {
      "machine_shape": "hm",
      "name": "CIFAR10.ipynb",
      "provenance": [],
      "authorship_tag": "ABX9TyO/GOVQXmedk67JKpPURM5f",
      "include_colab_link": true
    },
    "gpuClass": "standard",
    "kernelspec": {
      "display_name": "Python 3",
      "name": "python3"
    },
    "language_info": {
      "name": "python"
    }
  },
  "nbformat": 4,
  "nbformat_minor": 0
}