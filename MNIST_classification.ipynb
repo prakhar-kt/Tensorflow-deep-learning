{
  "cells": [
    {
      "cell_type": "markdown",
      "metadata": {
        "id": "view-in-github",
        "colab_type": "text"
      },
      "source": [
        "<a href=\"https://colab.research.google.com/github/prakhar-kt/Tensorflow-deep-learning/blob/main/MNIST_classification.ipynb\" target=\"_parent\"><img src=\"https://colab.research.google.com/assets/colab-badge.svg\" alt=\"Open In Colab\"/></a>"
      ]
    },
    {
      "cell_type": "markdown",
      "metadata": {
        "id": "zYZAvVMStfl0"
      },
      "source": [
        "####Import TensorFlow"
      ]
    },
    {
      "cell_type": "code",
      "execution_count": 15,
      "metadata": {
        "colab": {
          "base_uri": "https://localhost:8080/"
        },
        "id": "-yB37xB9y9nw",
        "outputId": "68c4d244-f576-4415-ecac-73c7bcb242fa"
      },
      "outputs": [
        {
          "output_type": "stream",
          "name": "stdout",
          "text": [
            "2.8.2\n"
          ]
        }
      ],
      "source": [
        "import tensorflow as tf\n",
        "print(tf.__version__)"
      ]
    },
    {
      "cell_type": "markdown",
      "metadata": {
        "id": "Nsof-YOGtoix"
      },
      "source": [
        "#### Import the required libraries"
      ]
    },
    {
      "cell_type": "code",
      "execution_count": 16,
      "metadata": {
        "id": "3ueZazjBzE5M"
      },
      "outputs": [],
      "source": [
        "import numpy as np \n",
        "import matplotlib.pyplot as plt\n",
        "from tensorflow.keras.layers import Input, Conv2D, Dense, Flatten, Dropout\n",
        "from tensorflow.keras.models import Model"
      ]
    },
    {
      "cell_type": "markdown",
      "metadata": {
        "id": "r_1QzHtvtZdJ"
      },
      "source": [
        "#### Load the dataset"
      ]
    },
    {
      "cell_type": "code",
      "execution_count": 17,
      "metadata": {
        "colab": {
          "base_uri": "https://localhost:8080/"
        },
        "id": "-dmqObt7tzyH",
        "outputId": "834e7f36-1187-42ef-df42-685fcfac55c8"
      },
      "outputs": [
        {
          "output_type": "stream",
          "name": "stdout",
          "text": [
            "x_train shape : (60000, 28, 28)\n",
            "y_train shape: (60000,)\n"
          ]
        }
      ],
      "source": [
        "fashion_mnist = tf.keras.datasets.fashion_mnist\n",
        "(x_train, y_train) , (x_test, y_test) = fashion_mnist.load_data()\n",
        "x_train, x_test = x_train/255.0, x_test/255.0\n",
        "print(f\"x_train shape : {x_train.shape}\")\n",
        "print(f\"y_train shape: {y_train.shape}\")"
      ]
    },
    {
      "cell_type": "markdown",
      "metadata": {
        "id": "UD4bIVPCvGbD"
      },
      "source": [
        "#### We have a 2d dataset(28* 28) of 60000 images. Convert this to 3d images"
      ]
    },
    {
      "cell_type": "code",
      "execution_count": 18,
      "metadata": {
        "colab": {
          "base_uri": "https://localhost:8080/"
        },
        "id": "GEhL7y7Vuf6G",
        "outputId": "ab0cd025-ad13-497e-c3eb-702e2a462fc4"
      },
      "outputs": [
        {
          "output_type": "stream",
          "name": "stdout",
          "text": [
            "(60000, 28, 28, 1)\n"
          ]
        }
      ],
      "source": [
        "x_train = np.expand_dims(x_train, -1)\n",
        "x_test = np.expand_dims(x_test, -1)\n",
        "print(x_train.shape)"
      ]
    },
    {
      "cell_type": "markdown",
      "metadata": {
        "id": "ftBLeQGcvcZV"
      },
      "source": [
        "#### No of classes"
      ]
    },
    {
      "cell_type": "code",
      "execution_count": 19,
      "metadata": {
        "colab": {
          "base_uri": "https://localhost:8080/"
        },
        "id": "gZZBNs6WvWhB",
        "outputId": "f2344071-5ccc-4062-cd51-3f8739e3a7fe"
      },
      "outputs": [
        {
          "output_type": "stream",
          "name": "stdout",
          "text": [
            "No of classes: 10\n"
          ]
        }
      ],
      "source": [
        "k = len(set(y_train)) # set gives the unique values in the y_train data\n",
        "print(\"No of classes:\", k)"
      ]
    },
    {
      "cell_type": "code",
      "execution_count": 20,
      "metadata": {
        "colab": {
          "base_uri": "https://localhost:8080/"
        },
        "id": "wfMo3GmZ2RFy",
        "outputId": "ecbbdf42-15d7-45a9-9699-38a1cdfffe96"
      },
      "outputs": [
        {
          "output_type": "execute_result",
          "data": {
            "text/plain": [
              "(28, 28, 1)"
            ]
          },
          "metadata": {},
          "execution_count": 20
        }
      ],
      "source": [
        "x_train[0].shape"
      ]
    },
    {
      "cell_type": "markdown",
      "metadata": {
        "id": "tm7qDsEOwgzb"
      },
      "source": [
        "#### Build the model using Functional API"
      ]
    },
    {
      "cell_type": "code",
      "execution_count": 21,
      "metadata": {
        "id": "EDx1jBuJvpkM"
      },
      "outputs": [],
      "source": [
        "i = Input(shape=x_train[0].shape)\n",
        "x = Conv2D(32,(3,3),strides=2, activation='relu')(i)\n",
        "x = Conv2D(64,(3,3), strides=2, activation='relu')(x)\n",
        "x = Conv2D(128, (3,3), strides=2, activation='relu')(x)\n",
        "x = Flatten()(x)\n",
        "x = Dropout(0.2)(x)\n",
        "x = Dense(512, activation='relu')(x)\n",
        "x = Dropout(0.2)(x)\n",
        "x = Dense(k,  activation='sigmoid')(x)\n",
        "\n",
        "model = Model(i,x)"
      ]
    },
    {
      "cell_type": "code",
      "execution_count": 22,
      "metadata": {
        "colab": {
          "base_uri": "https://localhost:8080/"
        },
        "id": "8QzMnuqW2Bzt",
        "outputId": "09f07119-9ac6-4943-ccf6-8c6c73b01a8d"
      },
      "outputs": [
        {
          "output_type": "stream",
          "name": "stdout",
          "text": [
            "Epoch 1/10\n",
            "1875/1875 [==============================] - 7s 3ms/step - loss: 0.5243 - accuracy: 0.8068 - val_loss: 0.4119 - val_accuracy: 0.8445\n",
            "Epoch 2/10\n",
            "1875/1875 [==============================] - 6s 3ms/step - loss: 0.3690 - accuracy: 0.8627 - val_loss: 0.3520 - val_accuracy: 0.8643\n",
            "Epoch 3/10\n",
            "1875/1875 [==============================] - 6s 3ms/step - loss: 0.3192 - accuracy: 0.8814 - val_loss: 0.3163 - val_accuracy: 0.8830\n",
            "Epoch 4/10\n",
            "1875/1875 [==============================] - 6s 3ms/step - loss: 0.2852 - accuracy: 0.8918 - val_loss: 0.3058 - val_accuracy: 0.8881\n",
            "Epoch 5/10\n",
            "1875/1875 [==============================] - 6s 3ms/step - loss: 0.2588 - accuracy: 0.9026 - val_loss: 0.2943 - val_accuracy: 0.8918\n",
            "Epoch 6/10\n",
            "1875/1875 [==============================] - 6s 3ms/step - loss: 0.2372 - accuracy: 0.9090 - val_loss: 0.2928 - val_accuracy: 0.8943\n",
            "Epoch 7/10\n",
            "1875/1875 [==============================] - 6s 3ms/step - loss: 0.2179 - accuracy: 0.9168 - val_loss: 0.2841 - val_accuracy: 0.8969\n",
            "Epoch 8/10\n",
            "1875/1875 [==============================] - 6s 3ms/step - loss: 0.2033 - accuracy: 0.9221 - val_loss: 0.2984 - val_accuracy: 0.8962\n",
            "Epoch 9/10\n",
            "1875/1875 [==============================] - 6s 3ms/step - loss: 0.1873 - accuracy: 0.9287 - val_loss: 0.3105 - val_accuracy: 0.8925\n",
            "Epoch 10/10\n",
            "1875/1875 [==============================] - 6s 3ms/step - loss: 0.1739 - accuracy: 0.9340 - val_loss: 0.3304 - val_accuracy: 0.8979\n"
          ]
        }
      ],
      "source": [
        "model.compile(optimizer='adam',\n",
        "              loss='sparse_categorical_crossentropy',\n",
        "              metrics=['accuracy'])\n",
        "\n",
        "model_1 = model.fit(x_train, y_train, validation_data=(x_test, y_test), epochs=10)"
      ]
    },
    {
      "cell_type": "code",
      "execution_count": 23,
      "metadata": {
        "colab": {
          "base_uri": "https://localhost:8080/",
          "height": 269
        },
        "id": "84YlYP6w3mmG",
        "outputId": "17e29f78-9069-4be7-c370-45d2d703ef53"
      },
      "outputs": [
        {
          "output_type": "display_data",
          "data": {
            "text/plain": [
              "<Figure size 432x288 with 1 Axes>"
            ],
            "image/png": "[encoded data removed]"
          },
          "metadata": {
            "needs_background": "light"
          }
        }
      ],
      "source": [
        "plt.plot(model_1.history['accuracy'], label='Training Accuracy');\n",
        "plt.plot(model_1.history['val_accuracy'], label='Validation Accuracy');\n",
        "plt.legend();"
      ]
    },
    {
      "cell_type": "markdown",
      "metadata": {
        "id": "WoPKNGV45Oxh"
      },
      "source": [
        "The model seems to be overfitting as the validation accuracy is plateauing out after 7 epochs while training accuracy continues to improve"
      ]
    },
    {
      "cell_type": "code",
      "source": [
        "y_pred = model.predict(x_test)\n",
        "y_pred[0]"
      ],
      "metadata": {
        "colab": {
          "base_uri": "https://localhost:8080/"
        },
        "id": "1j1S2mW_Cl-e",
        "outputId": "b436f911-ef47-4a2d-88ca-322b98807f2b"
      },
      "execution_count": 31,
      "outputs": [
        {
          "output_type": "execute_result",
          "data": {
            "text/plain": [
              "array([1.3618352e-04, 2.4976139e-06, 1.5110000e-05, 1.1892901e-06,\n",
              "       1.4674830e-05, 2.1242265e-01, 1.8409908e-05, 1.3261484e-01,\n",
              "       5.9414935e-05, 9.9999166e-01], dtype=float32)"
            ]
          },
          "metadata": {},
          "execution_count": 31
        }
      ]
    },
    {
      "cell_type": "code",
      "source": [
        "y_pred = model.predict(x_test).argmax(axis=1)\n",
        "y_pred[0]"
      ],
      "metadata": {
        "colab": {
          "base_uri": "https://localhost:8080/"
        },
        "id": "Qzs6DJxS98W5",
        "outputId": "e55abc00-6140-499f-ddbb-c411e9f3b9bf"
      },
      "execution_count": 32,
      "outputs": [
        {
          "output_type": "execute_result",
          "data": {
            "text/plain": [
              "9"
            ]
          },
          "metadata": {},
          "execution_count": 32
        }
      ]
    },
    {
      "cell_type": "markdown",
      "source": [
        "#### Display the confusion matrix for the model"
      ],
      "metadata": {
        "id": "UwnXdm_wDJIr"
      }
    },
    {
      "cell_type": "code",
      "execution_count": 28,
      "metadata": {
        "id": "lA7d4dLJ46kx",
        "colab": {
          "base_uri": "https://localhost:8080/",
          "height": 279
        },
        "outputId": "8ffa121f-9fed-4b15-dbf9-54854e84632c"
      },
      "outputs": [
        {
          "output_type": "display_data",
          "data": {
            "text/plain": [
              "<Figure size 432x288 with 2 Axes>"
            ],
            "image/png": "[encoded data removed]"
          },
          "metadata": {
            "needs_background": "light"
          }
        }
      ],
      "source": [
        "from sklearn.metrics import ConfusionMatrixDisplay\n",
        "ConfusionMatrixDisplay.from_predictions(y_test,y_pred);"
      ]
    },
    {
      "cell_type": "markdown",
      "source": [
        "It seems that most of the missclassification has occured for the Actual Label = 6, which has been misclassified as Label = 0 or Label = 4"
      ],
      "metadata": {
        "id": "tWsZiDKfDaTt"
      }
    },
    {
      "cell_type": "code",
      "source": [
        "Labels = \"T-shirt/top,Trouser,Pullover,Dress,Coat,Sandal,Shirt,Sneaker,Bag,Ankle boot\".split(',')\n",
        "Labels"
      ],
      "metadata": {
        "colab": {
          "base_uri": "https://localhost:8080/"
        },
        "id": "gbryYg7dUFR6",
        "outputId": "b59e57b4-b517-400d-d280-061a095fef78"
      },
      "execution_count": 45,
      "outputs": [
        {
          "output_type": "execute_result",
          "data": {
            "text/plain": [
              "['T-shirt/top',\n",
              " 'Trouser',\n",
              " 'Pullover',\n",
              " 'Dress',\n",
              " 'Coat',\n",
              " 'Sandal',\n",
              " 'Shirt',\n",
              " 'Sneaker',\n",
              " 'Bag',\n",
              " 'Ankle boot']"
            ]
          },
          "metadata": {},
          "execution_count": 45
        }
      ]
    },
    {
      "cell_type": "markdown",
      "source": [
        "From the Label names above, we can see that the most misclassified item has been 'Shirt', which has been either misclassified as a 'Coat' or a 'T-shirt/top'"
      ],
      "metadata": {
        "id": "VK_2uvX2VaNW"
      }
    },
    {
      "cell_type": "markdown",
      "source": [
        "#### Show misclassified labels examples"
      ],
      "metadata": {
        "id": "MPHkkJvfQ5Sf"
      }
    },
    {
      "cell_type": "code",
      "source": [
        "misclassified_idx = np.where(y_test != y_pred)[0]\n",
        "i = np.random.choice(misclassified_idx)\n",
        "plt.imshow(x_test[i].reshape(28,28))\n",
        "plt.title(f\"True Label: {Labels[y_test[i]]}, Predicted Label: {Labels[y_pred[i]]}\")\n"
      ],
      "metadata": {
        "colab": {
          "base_uri": "https://localhost:8080/",
          "height": 299
        },
        "id": "O4ZK-ayFBGd3",
        "outputId": "4d4aa8f3-c2fb-4b9b-c87e-3ab5edee68f1"
      },
      "execution_count": 50,
      "outputs": [
        {
          "output_type": "execute_result",
          "data": {
            "text/plain": [
              "Text(0.5, 1.0, 'True Label: T-shirt/top, Predicted Label: Coat')"
            ]
          },
          "metadata": {},
          "execution_count": 50
        },
        {
          "output_type": "display_data",
          "data": {
            "text/plain": [
              "<Figure size 432x288 with 1 Axes>"
            ],
            "image/png": "[encoded data removed]"
          },
          "metadata": {
            "needs_background": "light"
          }
        }
      ]
    },
    {
      "cell_type": "code",
      "source": [
        "misclassified_idx = np.where(y_test != y_pred)[0]\n",
        "misclassified_idx"
      ],
      "metadata": {
        "colab": {
          "base_uri": "https://localhost:8080/"
        },
        "id": "qvN4dDkXSDQW",
        "outputId": "ecdb4d10-dada-412c-c476-8ed9fab59444"
      },
      "execution_count": 34,
      "outputs": [
        {
          "output_type": "execute_result",
          "data": {
            "text/plain": [
              "array([  21,   23,   25, ..., 9969, 9977, 9991])"
            ]
          },
          "metadata": {},
          "execution_count": 34
        }
      ]
    },
    {
      "cell_type": "code",
      "source": [
        ""
      ],
      "metadata": {
        "id": "SYjvT6gESHe2"
      },
      "execution_count": null,
      "outputs": []
    }
  ],
  "metadata": {
    "accelerator": "GPU",
    "colab": {
      "machine_shape": "hm",
      "name": "MNIST classification.ipynb",
      "provenance": [],
      "authorship_tag": "ABX9TyPvEteu3xuwrKwQSN6E+ERb",
      "include_colab_link": true
    },
    "gpuClass": "standard",
    "kernelspec": {
      "display_name": "Python 3",
      "name": "python3"
    },
    "language_info": {
      "name": "python"
    }
  },
  "nbformat": 4,
  "nbformat_minor": 0
}